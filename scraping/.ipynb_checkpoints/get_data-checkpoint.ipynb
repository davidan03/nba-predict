{
 "cells": [
  {
   "cell_type": "code",
   "execution_count": 3,
   "id": "f5a278a0-5192-4a9f-97aa-340ea9c6bb97",
   "metadata": {},
   "outputs": [],
   "source": [
    "import os\n",
    "from bs4 import BeautifulSoup\n",
    "from playwright.async_api import async_playwright, TimeoutError as PlaywrightTimeout\n",
    "import time"
   ]
  },
  {
   "cell_type": "code",
   "execution_count": 39,
   "id": "29c97ed8-3a6d-413d-9bc1-013509911cd4",
   "metadata": {},
   "outputs": [
    {
     "data": {
      "text/plain": [
       "[2014, 2015, 2016, 2017, 2018, 2019, 2020, 2021, 2022, 2023, 2024, 2025]"
      ]
     },
     "execution_count": 39,
     "metadata": {},
     "output_type": "execute_result"
    }
   ],
   "source": [
    "SEASONS = list(range(2014, 2026))\n",
    "SEASONS"
   ]
  },
  {
   "cell_type": "code",
   "execution_count": 6,
   "id": "370f0a70-c9ed-4d93-8565-6a0b69e16376",
   "metadata": {},
   "outputs": [],
   "source": [
    "DATA_DIR = \"data\"\n",
    "STANDINGS_DIR = os.path.join(DATA_DIR, \"standings\")\n",
    "SCORES_DIR = os.path.join(DATA_DIR, \"scores\")"
   ]
  },
  {
   "cell_type": "code",
   "execution_count": 10,
   "id": "8735732d-d7c4-45e3-8fb6-16a2bf28adba",
   "metadata": {},
   "outputs": [],
   "source": [
    "async def get_html(url, selector, sleep=5, retries=3):\n",
    "    html = None\n",
    "    for i in range(1, retries + 1):\n",
    "        time.sleep(sleep * i)\n",
    "\n",
    "        try:\n",
    "            async with async_playwright() as p:\n",
    "                browser = await p.chromium.launch()\n",
    "                page = await browser.new_page()\n",
    "                await page.goto(url)\n",
    "                print(await page.title())\n",
    "                html = await page.inner_html(selector)    \n",
    "        except PlaywrightTimeout:\n",
    "            print(f\"Timeout error on {url}\")\n",
    "            continue\n",
    "        else:\n",
    "            break\n",
    "    return html"
   ]
  },
  {
   "cell_type": "code",
   "execution_count": 52,
   "id": "d25d9416-e270-4637-838f-1fbbe095e490",
   "metadata": {},
   "outputs": [],
   "source": [
    "async def scrape_season(season):\n",
    "    url = f\"https://www.basketball-reference.com/leagues/NBA_{season}_games.html\"\n",
    "    html = await get_html(url, \"#content .filter\")\n",
    "\n",
    "    soup = BeautifulSoup(html)\n",
    "    links = soup.find_all(\"a\")\n",
    "    standings_pages = [f\"https://www.basketball-reference.com{l[\"href\"]}\" for l in links]\n",
    "\n",
    "    for url in standings_pages:\n",
    "        save_path = os.path.join(STANDINGS_DIR, url.split(\"/\")[-1])\n",
    "        if os.path.exists(save_path):\n",
    "            continue\n",
    "\n",
    "        html = await get_html(url, \"#all_schedule\")\n",
    "        with open(save_path, \"w+\") as f:\n",
    "            f.write(html)"
   ]
  },
  {
   "cell_type": "code",
   "execution_count": 36,
   "id": "ab9d92f3-2085-4759-89f8-0cb8f1cece83",
   "metadata": {},
   "outputs": [
    {
     "name": "stdout",
     "output_type": "stream",
     "text": [
      "2013-14 NBA Schedule | Basketball-Reference.com\n",
      "2014-15 NBA Schedule | Basketball-Reference.com\n",
      "2015-16 NBA Schedule | Basketball-Reference.com\n",
      "2016-17 NBA Schedule | Basketball-Reference.com\n",
      "2017-18 NBA Schedule | Basketball-Reference.com\n",
      "2018-19 NBA Schedule | Basketball-Reference.com\n",
      "2019-20 NBA Schedule | Basketball-Reference.com\n",
      "2020-21 NBA Schedule | Basketball-Reference.com\n",
      "2021-22 NBA Schedule | Basketball-Reference.com\n",
      "2022-23 NBA Schedule | Basketball-Reference.com\n",
      "2023-24 NBA Schedule | Basketball-Reference.com\n",
      "2024-25 NBA Schedule | Basketball-Reference.com\n"
     ]
    }
   ],
   "source": [
    "for season in SEASONS:\n",
    "    await scrape_season(season)"
   ]
  },
  {
   "cell_type": "code",
   "execution_count": 42,
   "id": "c523ed47-0474-4783-acbd-25e742ae6bcf",
   "metadata": {},
   "outputs": [
    {
     "data": {
      "text/plain": [
       "['NBA_2022_games-october.html',\n",
       " 'NBA_2021_games-june.html',\n",
       " 'NBA_2024_games-may.html',\n",
       " 'NBA_2020_games-march.html',\n",
       " 'NBA_2020_games-september.html',\n",
       " 'NBA_2020_games-january.html',\n",
       " 'NBA_2020_games-august.html',\n",
       " 'NBA_2015_games-march.html',\n",
       " 'NBA_2023_games-may.html',\n",
       " 'NBA_2019_games-april.html',\n",
       " 'NBA_2023_games-april.html',\n",
       " 'NBA_2022_games-may.html',\n",
       " 'NBA_2014_games-june.html',\n",
       " 'NBA_2019_games-february.html',\n",
       " 'NBA_2018_games-february.html',\n",
       " 'NBA_2023_games-january.html',\n",
       " 'NBA_2025_games-may.html',\n",
       " 'NBA_2016_games-april.html',\n",
       " 'NBA_2024_games-march.html',\n",
       " 'NBA_2021_games-march.html',\n",
       " 'NBA_2025_games-december.html',\n",
       " 'NBA_2018_games-january.html',\n",
       " 'NBA_2015_games-january.html',\n",
       " 'NBA_2015_games-june.html',\n",
       " 'NBA_2024_games-november.html',\n",
       " 'NBA_2017_games-february.html',\n",
       " 'NBA_2024_games-december.html',\n",
       " 'NBA_2016_games-february.html',\n",
       " 'NBA_2025_games-november.html',\n",
       " 'NBA_2017_games-october.html',\n",
       " 'NBA_2015_games-february.html',\n",
       " 'NBA_2018_games-april.html',\n",
       " 'NBA_2014_games-march.html',\n",
       " 'NBA_2014_games-february.html',\n",
       " 'NBA_2025_games-january.html',\n",
       " 'NBA_2020_games-december.html',\n",
       " 'NBA_2019_games-october.html',\n",
       " 'NBA_2014_games-october.html',\n",
       " 'NBA_2020_games-november.html',\n",
       " 'NBA_2021_games-may.html',\n",
       " 'NBA_2021_games-december.html',\n",
       " 'NBA_2022_games-april.html',\n",
       " 'NBA_2020_games-october-2019.html',\n",
       " 'NBA_2022_games-december.html',\n",
       " 'NBA_2023_games-november.html',\n",
       " 'NBA_2024_games-october.html',\n",
       " 'NBA_2025_games-march.html',\n",
       " 'NBA_2023_games-december.html',\n",
       " 'NBA_2017_games-april.html',\n",
       " 'NBA_2022_games-november.html',\n",
       " 'NBA_2016_games-january.html',\n",
       " 'NBA_2018_games-october.html',\n",
       " 'NBA_2015_games-october.html',\n",
       " 'NBA_2017_games-march.html',\n",
       " 'NBA_2021_games-february.html',\n",
       " 'NBA_2025_games-april.html',\n",
       " 'NBA_2020_games-february.html',\n",
       " 'NBA_2017_games-june.html',\n",
       " 'NBA_2022_games-march.html',\n",
       " 'NBA_2023_games-february.html',\n",
       " 'NBA_2018_games-june.html',\n",
       " 'NBA_2017_games-january.html',\n",
       " 'NBA_2020_games-october-2020.html',\n",
       " 'NBA_2025_games-june.html',\n",
       " 'NBA_2022_games-february.html',\n",
       " 'NBA_2025_games-october.html',\n",
       " 'NBA_2015_games-may.html',\n",
       " 'NBA_2024_games-february.html',\n",
       " 'NBA_2017_games-november.html',\n",
       " 'NBA_2014_games-may.html',\n",
       " 'NBA_2016_games-december.html',\n",
       " 'NBA_2021_games-july.html',\n",
       " 'NBA_2016_games-november.html',\n",
       " 'NBA_2025_games-february.html',\n",
       " 'NBA_2014_games-april.html',\n",
       " 'NBA_2022_games-june.html',\n",
       " 'NBA_2018_games-march.html',\n",
       " 'NBA_2017_games-december.html',\n",
       " 'NBA_2019_games-january.html',\n",
       " 'NBA_2014_games-january.html',\n",
       " 'NBA_2014_games-december.html',\n",
       " 'NBA_2024_games-january.html',\n",
       " 'NBA_2015_games-november.html',\n",
       " 'NBA_2016_games-october.html',\n",
       " 'NBA_2015_games-december.html',\n",
       " 'NBA_2021_games-april.html',\n",
       " 'NBA_2014_games-november.html',\n",
       " 'NBA_2019_games-november.html',\n",
       " 'NBA_2020_games-july.html',\n",
       " 'NBA_2018_games-december.html',\n",
       " 'NBA_2022_games-january.html',\n",
       " 'NBA_2024_games-april.html',\n",
       " 'NBA_2018_games-november.html',\n",
       " 'NBA_2016_games-march.html',\n",
       " 'NBA_2019_games-december.html',\n",
       " 'NBA_2023_games-june.html',\n",
       " 'NBA_2019_games-may.html',\n",
       " 'NBA_2016_games-may.html',\n",
       " 'NBA_2023_games-march.html',\n",
       " 'NBA_2019_games-march.html',\n",
       " 'NBA_2015_games-april.html',\n",
       " 'NBA_2017_games-may.html',\n",
       " 'NBA_2016_games-june.html',\n",
       " 'NBA_2023_games-october.html',\n",
       " 'NBA_2019_games-june.html',\n",
       " 'NBA_2024_games-june.html',\n",
       " 'NBA_2018_games-may.html',\n",
       " 'NBA_2021_games-january.html']"
      ]
     },
     "execution_count": 42,
     "metadata": {},
     "output_type": "execute_result"
    }
   ],
   "source": [
    "standings_files = os.listdir(STANDINGS_DIR)\n",
    "standings_files"
   ]
  },
  {
   "cell_type": "code",
   "execution_count": 55,
   "id": "488e1a7f-7f45-4a80-a13f-e946e65a476e",
   "metadata": {},
   "outputs": [],
   "source": [
    "async def scrape_game(standings_file):\n",
    "    with open(standings_file, \"r\") as f:\n",
    "        html = f.read()\n",
    "\n",
    "    soup = BeautifulSoup(html)\n",
    "    links = soup.find_all(\"a\")\n",
    "    hrefs = [l.get(\"href\") for l in links]\n",
    "    box_scores = [l for l in hrefs if l and \"boxscore\" in l and \".html\" in l]\n",
    "    box_scores = [f\"https://www.basketball-reference.com{l}\" for l in box_scores]\n",
    "\n",
    "    for url in box_scores:\n",
    "        save_path = os.path.join(SCORES_DIR, url.split(\"/\")[-1])\n",
    "        if os.path.exists(save_path):\n",
    "            continue\n",
    "\n",
    "        html = await get_html(url, \"#content\")\n",
    "        if not html:\n",
    "            continue\n",
    "\n",
    "        os.makedirs(os.path.dirname(save_path), exist_ok=True)\n",
    "        with open(save_path, \"w+\") as f:\n",
    "            f.write(html)"
   ]
  },
  {
   "cell_type": "code",
   "execution_count": null,
   "id": "5f23371a-54ff-4416-b62d-d5782aab79f2",
   "metadata": {},
   "outputs": [],
   "source": [
    "for season in SEASONS:\n",
    "    files = [s for s in standings_files if str(season) in s]\n",
    "\n",
    "    for f in files:\n",
    "        filepath = os.path.join(STANDINGS_DIR, f)\n",
    "\n",
    "        await scrape_game(filepath)"
   ]
  }
 ],
 "metadata": {
  "kernelspec": {
   "display_name": "Python 3 (ipykernel)",
   "language": "python",
   "name": "python3"
  },
  "language_info": {
   "codemirror_mode": {
    "name": "ipython",
    "version": 3
   },
   "file_extension": ".py",
   "mimetype": "text/x-python",
   "name": "python",
   "nbconvert_exporter": "python",
   "pygments_lexer": "ipython3",
   "version": "3.13.5"
  }
 },
 "nbformat": 4,
 "nbformat_minor": 5
}
